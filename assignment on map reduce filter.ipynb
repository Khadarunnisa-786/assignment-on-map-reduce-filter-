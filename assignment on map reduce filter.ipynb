{
 "cells": [
  {
   "cell_type": "markdown",
   "id": "c7faa4a2-4b1f-4bfc-b983-2e5ad4f9eafb",
   "metadata": {},
   "source": [
    "# Practical Questions on map()"
   ]
  },
  {
   "cell_type": "markdown",
   "id": "9acbba9d-9920-4748-9518-f39fa443e137",
   "metadata": {},
   "source": [
    "Convert a list of strings to uppercase\n",
    "words = ['python', 'is', 'awesome'] Output: ['PYTHON', 'IS', 'AWESOME']"
   ]
  },
  {
   "cell_type": "code",
   "execution_count": 1,
   "id": "3edbbbee-b05a-4fc5-afd6-f3a8042a3c17",
   "metadata": {},
   "outputs": [],
   "source": [
    "words = ['python', 'is', 'awesome'] \n",
    "uppercased = list(map(str.upper ,words))\n"
   ]
  },
  {
   "cell_type": "code",
   "execution_count": 2,
   "id": "19872148-5e47-49b2-84c5-2f8ec8ad52ee",
   "metadata": {},
   "outputs": [
    {
     "data": {
      "text/plain": [
       "['PYTHON', 'IS', 'AWESOME']"
      ]
     },
     "execution_count": 2,
     "metadata": {},
     "output_type": "execute_result"
    }
   ],
   "source": [
    "uppercased"
   ]
  },
  {
   "cell_type": "markdown",
   "id": "3d3d8779-1b66-4ec8-927f-6864129e2a8f",
   "metadata": {},
   "source": [
    "Square all numbers in a list\n",
    "numbers = [1, 2, 3, 4] utput: [1, 4, 9, 16]"
   ]
  },
  {
   "cell_type": "code",
   "execution_count": 3,
   "id": "2099c240-bfcb-41ff-9d5d-9c4f69b30fe0",
   "metadata": {},
   "outputs": [
    {
     "name": "stdout",
     "output_type": "stream",
     "text": [
      "[1, 4, 9, 16]\n"
     ]
    }
   ],
   "source": [
    "numbers = [1, 2, 3, 4]\n",
    "squared = list(map(lambda i: i**2, numbers))\n",
    "print(squared)"
   ]
  },
  {
   "cell_type": "markdown",
   "id": "4ab95e1a-01ce-49c2-8f72-af9073867b36",
   "metadata": {},
   "source": [
    "Convert a list of integers to strings\n",
    "nums = [1, 2, 3] Output: ['1', '2', '3']"
   ]
  },
  {
   "cell_type": "code",
   "execution_count": 4,
   "id": "9512b9a5-932d-44e0-95c5-d53b18f3ab34",
   "metadata": {},
   "outputs": [
    {
     "name": "stdout",
     "output_type": "stream",
     "text": [
      "['1', '2', '3']\n"
     ]
    }
   ],
   "source": [
    "nums = [1, 2, 3]\n",
    "str_nums = list(map(str, nums))\n",
    "print(str_nums)\n"
   ]
  },
  {
   "cell_type": "markdown",
   "id": "ad65353a-133a-45ed-8bc1-5ff1837b0e48",
   "metadata": {},
   "source": [
    "Add 5 to each element in a list marks = [50, 60, 70] Output: [55, 65, 75]"
   ]
  },
  {
   "cell_type": "code",
   "execution_count": 5,
   "id": "31eb6d0c-b8ce-4272-a6dd-11206456db3d",
   "metadata": {},
   "outputs": [
    {
     "name": "stdout",
     "output_type": "stream",
     "text": [
      "[55, 65, 75]\n"
     ]
    }
   ],
   "source": [
    "marks = [50, 60, 70]\n",
    "new_marks = list(map(lambda i: i + 5, marks))\n",
    "print(new_marks)\n"
   ]
  },
  {
   "cell_type": "markdown",
   "id": "a1442e2e-9d13-4654-802a-72ac7751dc7d",
   "metadata": {},
   "source": [
    "Get lengths of all strings in a list\n",
    "\n",
    "names = ['apple', 'banana', 'kiwi'] Output: [5, 6, 4]"
   ]
  },
  {
   "cell_type": "code",
   "execution_count": 6,
   "id": "df2d3ee2-7968-4b22-a898-473ea4c8aff8",
   "metadata": {},
   "outputs": [
    {
     "name": "stdout",
     "output_type": "stream",
     "text": [
      "[5, 6, 4]\n"
     ]
    }
   ],
   "source": [
    "names = ['apple', 'banana', 'kiwi']\n",
    "lengths = list(map(len, names))\n",
    "print(lengths)\n"
   ]
  },
  {
   "cell_type": "markdown",
   "id": "877c158b-3027-4a61-9654-99291aca969b",
   "metadata": {},
   "source": [
    "Filter out even numbers\n",
    "nums = [1, 2, 3, 4, 5, 6] Output: [2, 4, 6]"
   ]
  },
  {
   "cell_type": "code",
   "execution_count": 8,
   "id": "4221cfb6-8f98-4290-9ebe-a413e41bcee1",
   "metadata": {},
   "outputs": [],
   "source": [
    "nums = [1, 2, 3, 4, 5, 6]\n",
    "even = list(filter(lambda x: x % 2 == 0,nums))"
   ]
  },
  {
   "cell_type": "code",
   "execution_count": 9,
   "id": "bb9ce587-4675-4538-a1aa-9c9b06e5e716",
   "metadata": {},
   "outputs": [
    {
     "name": "stdout",
     "output_type": "stream",
     "text": [
      "[2, 4, 6]\n"
     ]
    }
   ],
   "source": [
    "print(even)"
   ]
  },
  {
   "cell_type": "markdown",
   "id": "eb36fbc0-a5a7-41af-8511-f41b9bc8da48",
   "metadata": {},
   "source": [
    "Keep only strings with more than 3 characters\n",
    "words = ['hi', 'hello', 'hey', 'sun'] Output: ['hello']"
   ]
  },
  {
   "cell_type": "code",
   "execution_count": 5,
   "id": "0f2906fd-36a7-4907-89c5-f608474b82cf",
   "metadata": {},
   "outputs": [
    {
     "name": "stdout",
     "output_type": "stream",
     "text": [
      "['hello']\n"
     ]
    }
   ],
   "source": [
    "words = ['hi', 'hello', 'hey', 'sun']\n",
    "y = list(filter(lambda w: len(w) > 3, words))\n",
    "print(y)\n"
   ]
  },
  {
   "cell_type": "markdown",
   "id": "259c23e2-83bb-4b9a-aae3-df6e565afae7",
   "metadata": {},
   "source": [
    "Remove empty strings from a list\n",
    "data = ['Python', '', 'Java', '', 'C++'] Output: ['Python', 'Java', 'C++']"
   ]
  },
  {
   "cell_type": "code",
   "execution_count": 7,
   "id": "a0781127-db25-4b09-a2e1-9297edd7d6ad",
   "metadata": {},
   "outputs": [],
   "source": [
    "data = ['Python', '', 'Java', '', 'C++'] \n",
    "non_empty = list(filter(None,data))"
   ]
  },
  {
   "cell_type": "code",
   "execution_count": 9,
   "id": "d277166d-cbc3-4eda-90d1-80aa5e4cd44a",
   "metadata": {},
   "outputs": [
    {
     "name": "stdout",
     "output_type": "stream",
     "text": [
      "['Python', 'Java', 'C++']\n"
     ]
    }
   ],
   "source": [
    "print(non_empty)"
   ]
  },
  {
   "cell_type": "markdown",
   "id": "875d5f60-3087-4bc5-b363-7a2e6dcc1921",
   "metadata": {},
   "source": [
    "Get names that start with 'A' names = ['Alice', 'Bob', 'Angela', 'Tom'] Output: ['Alice', 'Angela']\n",
    "\n"
   ]
  },
  {
   "cell_type": "code",
   "execution_count": 10,
   "id": "fa3ed0c1-1fdc-46c5-b45a-bb2a0b970305",
   "metadata": {},
   "outputs": [
    {
     "name": "stdout",
     "output_type": "stream",
     "text": [
      "['Alice', 'Angela']\n"
     ]
    }
   ],
   "source": [
    "names = ['Alice', 'Bob', 'Angela', 'Tom']\n",
    "a = list(filter(lambda name: name.startswith('A'), names))\n",
    "print(a)\n"
   ]
  },
  {
   "cell_type": "markdown",
   "id": "2fc750ec-bc86-4b2c-937c-764c342c5232",
   "metadata": {},
   "source": [
    "Keep truthy values only\n",
    "\n",
    "items = [0, None, 'hello', False, 42, ''] Output: ['hello', 42]"
   ]
  },
  {
   "cell_type": "code",
   "execution_count": 11,
   "id": "c805ff46-e263-4eb2-a8c3-83a29e2321ec",
   "metadata": {},
   "outputs": [],
   "source": [
    "items = [0, None, 'hello', False, 42, '']\n",
    "truthy = list(filter(bool , items))"
   ]
  },
  {
   "cell_type": "code",
   "execution_count": 12,
   "id": "a083b79e-00cf-4707-9870-e2ea17a141d9",
   "metadata": {},
   "outputs": [
    {
     "name": "stdout",
     "output_type": "stream",
     "text": [
      "['hello', 42]\n"
     ]
    }
   ],
   "source": [
    "print(truthy)"
   ]
  },
  {
   "cell_type": "markdown",
   "id": "85f9c168-eeb6-49fc-ac13-85e72c97ba52",
   "metadata": {},
   "source": [
    "Sum of all numbers\n",
    "nums = [1, 2, 3, 4] Output: 10"
   ]
  },
  {
   "cell_type": "code",
   "execution_count": 16,
   "id": "3c0edca2-6aa0-4c8b-b558-0b0562f15c18",
   "metadata": {},
   "outputs": [],
   "source": [
    "nums = [1, 2, 3, 4] \n",
    "def test(nums):\n",
    "    sum  = 0\n",
    "    for i in nums:\n",
    "       if type(i) == int:\n",
    "          sum+=i\n",
    "    return sum"
   ]
  },
  {
   "cell_type": "code",
   "execution_count": 17,
   "id": "5f85c646-7240-4974-a63e-fd778a25331b",
   "metadata": {},
   "outputs": [
    {
     "data": {
      "text/plain": [
       "10"
      ]
     },
     "execution_count": 17,
     "metadata": {},
     "output_type": "execute_result"
    }
   ],
   "source": [
    "test(nums)"
   ]
  },
  {
   "cell_type": "markdown",
   "id": "c5f3adec-176a-4d7b-a911-08772c9d762e",
   "metadata": {},
   "source": [
    "Product of all even numbers nums = [1, 2, 3, 4, 5] Filter even → [2, 4] Reduce → 8\n",
    "\n"
   ]
  },
  {
   "cell_type": "code",
   "execution_count": 19,
   "id": "ca2b50c5-ecdf-4cdf-948e-784729a8422a",
   "metadata": {},
   "outputs": [],
   "source": [
    "from functools import reduce"
   ]
  },
  {
   "cell_type": "code",
   "execution_count": 20,
   "id": "0a4dfc95-a8ac-4f44-a0a4-965ed4b061f6",
   "metadata": {},
   "outputs": [
    {
     "name": "stdout",
     "output_type": "stream",
     "text": [
      "8\n"
     ]
    }
   ],
   "source": [
    "nums = [1, 2, 3, 4, 5]\n",
    "even_nums = list(filter(lambda x: x % 2 == 0, nums))\n",
    "product = reduce(lambda x, y: x * y, even_nums)\n",
    "print(product)\n"
   ]
  },
  {
   "cell_type": "markdown",
   "id": "5fc41fe3-96c6-46a0-a2ab-57b49d2d36bc",
   "metadata": {},
   "source": [
    "Find the longest word words = ['apple', 'banana', 'kiwi'] Output: 'banana'\n",
    "\n"
   ]
  },
  {
   "cell_type": "code",
   "execution_count": 21,
   "id": "a5541946-3419-4706-8a89-0eb38bb3fe00",
   "metadata": {},
   "outputs": [
    {
     "name": "stdout",
     "output_type": "stream",
     "text": [
      "banana\n"
     ]
    }
   ],
   "source": [
    "words = ['apple', 'banana', 'kiwi']\n",
    "longest = reduce(lambda a, b: a if len(a) > len(b) else b, words)\n",
    "print(longest)\n"
   ]
  },
  {
   "cell_type": "markdown",
   "id": "33fa4af8-ddc1-4d9f-8e18-16efb06204c7",
   "metadata": {},
   "source": [
    "Join list of strings into one sentence words = ['Python', 'is', 'fun'] Output: 'Python is fun'\n",
    "\n"
   ]
  },
  {
   "cell_type": "code",
   "execution_count": 22,
   "id": "20c3eccd-af4c-4839-bb67-8f09a95a8a50",
   "metadata": {},
   "outputs": [
    {
     "name": "stdout",
     "output_type": "stream",
     "text": [
      "Python is fun\n"
     ]
    }
   ],
   "source": [
    "words = ['Python', 'is', 'fun']\n",
    "sentence = ' '.join(words)\n",
    "print(sentence)\n"
   ]
  },
  {
   "cell_type": "markdown",
   "id": "47bba9e0-0036-461a-b7d5-7423b4cc04db",
   "metadata": {},
   "source": [
    "Create number from digits\n",
    "\n",
    "digits = [1, 2, 3, 4] Output: 1234"
   ]
  },
  {
   "cell_type": "code",
   "execution_count": 23,
   "id": "b33ddd6b-3227-4579-9914-f61a371e6082",
   "metadata": {},
   "outputs": [],
   "source": [
    "digits = [1,2,3, 4]\n",
    "number = reduce(lambda x, y : x* 10 +y ,digits)"
   ]
  },
  {
   "cell_type": "code",
   "execution_count": 24,
   "id": "c7683154-13a8-4f8a-b29c-fce5484ad7d7",
   "metadata": {},
   "outputs": [
    {
     "name": "stdout",
     "output_type": "stream",
     "text": [
      "1234\n"
     ]
    }
   ],
   "source": [
    "print(number)"
   ]
  },
  {
   "cell_type": "code",
   "execution_count": null,
   "id": "94698a31-b071-4453-abdf-e47896bd648d",
   "metadata": {},
   "outputs": [],
   "source": []
  }
 ],
 "metadata": {
  "kernelspec": {
   "display_name": "Python 3 (ipykernel)",
   "language": "python",
   "name": "python3"
  },
  "language_info": {
   "codemirror_mode": {
    "name": "ipython",
    "version": 3
   },
   "file_extension": ".py",
   "mimetype": "text/x-python",
   "name": "python",
   "nbconvert_exporter": "python",
   "pygments_lexer": "ipython3",
   "version": "3.13.5"
  }
 },
 "nbformat": 4,
 "nbformat_minor": 5
}
